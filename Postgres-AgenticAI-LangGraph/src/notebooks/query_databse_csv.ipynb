{
 "cells": [
  {
   "cell_type": "code",
   "execution_count": 6,
   "metadata": {},
   "outputs": [],
   "source": [
    "from pyprojroot import here\n",
    "from langchain_community.utilities import SQLDatabase\n",
    "from sqlalchemy import create_engine\n",
    "from dotenv import load_dotenv\n",
    "from urllib.parse import quote_plus\n",
    "import pandas as pd\n",
    "import os\n",
    "from langchain_community.chat_models import ChatOpenAI\n",
    "from langchain_core.messages import HumanMessage, SystemMessage"
   ]
  },
  {
   "cell_type": "code",
   "execution_count": 8,
   "metadata": {},
   "outputs": [
    {
     "data": {
      "text/plain": [
       "True"
      ]
     },
     "execution_count": 8,
     "metadata": {},
     "output_type": "execute_result"
    }
   ],
   "source": [
    "# Load environment variables\n",
    "load_dotenv()"
   ]
  },
  {
   "cell_type": "code",
   "execution_count": 4,
   "metadata": {},
   "outputs": [],
   "source": [
    "df = pd.read_csv('../../data/csv_xlsx/f1_pitstops_2018_2024.csv')"
   ]
  },
  {
   "cell_type": "code",
   "execution_count": 5,
   "metadata": {},
   "outputs": [
    {
     "data": {
      "text/html": [
       "<div>\n",
       "<style scoped>\n",
       "    .dataframe tbody tr th:only-of-type {\n",
       "        vertical-align: middle;\n",
       "    }\n",
       "\n",
       "    .dataframe tbody tr th {\n",
       "        vertical-align: top;\n",
       "    }\n",
       "\n",
       "    .dataframe thead th {\n",
       "        text-align: right;\n",
       "    }\n",
       "</style>\n",
       "<table border=\"1\" class=\"dataframe\">\n",
       "  <thead>\n",
       "    <tr style=\"text-align: right;\">\n",
       "      <th></th>\n",
       "      <th>Season</th>\n",
       "      <th>Round</th>\n",
       "      <th>Circuit</th>\n",
       "      <th>Driver</th>\n",
       "      <th>Constructor</th>\n",
       "      <th>Laps</th>\n",
       "      <th>Position</th>\n",
       "      <th>TotalPitStops</th>\n",
       "      <th>AvgPitStopTime</th>\n",
       "      <th>Race Name</th>\n",
       "      <th>...</th>\n",
       "      <th>Tire Usage Aggression</th>\n",
       "      <th>Fast Lap Attempts</th>\n",
       "      <th>Position Changes</th>\n",
       "      <th>Driver Aggression Score</th>\n",
       "      <th>Abbreviation</th>\n",
       "      <th>Stint</th>\n",
       "      <th>Tire Compound</th>\n",
       "      <th>Stint Length</th>\n",
       "      <th>Pit_Lap</th>\n",
       "      <th>Pit_Time</th>\n",
       "    </tr>\n",
       "  </thead>\n",
       "  <tbody>\n",
       "    <tr>\n",
       "      <th>0</th>\n",
       "      <td>2018</td>\n",
       "      <td>1</td>\n",
       "      <td>Albert Park Grand Prix Circuit</td>\n",
       "      <td>Sebastian Vettel</td>\n",
       "      <td>Ferrari</td>\n",
       "      <td>58</td>\n",
       "      <td>1</td>\n",
       "      <td>1</td>\n",
       "      <td>21.787</td>\n",
       "      <td>Australian Grand Prix</td>\n",
       "      <td>...</td>\n",
       "      <td>0.017241</td>\n",
       "      <td>44.76882</td>\n",
       "      <td>0.000000</td>\n",
       "      <td>6.755003</td>\n",
       "      <td>VET</td>\n",
       "      <td>1.0</td>\n",
       "      <td>ULTRASOFT</td>\n",
       "      <td>25.0</td>\n",
       "      <td>26.0</td>\n",
       "      <td>21.787</td>\n",
       "    </tr>\n",
       "    <tr>\n",
       "      <th>1</th>\n",
       "      <td>2018</td>\n",
       "      <td>1</td>\n",
       "      <td>Albert Park Grand Prix Circuit</td>\n",
       "      <td>Sebastian Vettel</td>\n",
       "      <td>Ferrari</td>\n",
       "      <td>58</td>\n",
       "      <td>1</td>\n",
       "      <td>1</td>\n",
       "      <td>21.787</td>\n",
       "      <td>Australian Grand Prix</td>\n",
       "      <td>...</td>\n",
       "      <td>0.017241</td>\n",
       "      <td>44.76882</td>\n",
       "      <td>0.000000</td>\n",
       "      <td>6.755003</td>\n",
       "      <td>VET</td>\n",
       "      <td>2.0</td>\n",
       "      <td>SOFT</td>\n",
       "      <td>32.0</td>\n",
       "      <td>NaN</td>\n",
       "      <td>Final Stint</td>\n",
       "    </tr>\n",
       "    <tr>\n",
       "      <th>2</th>\n",
       "      <td>2018</td>\n",
       "      <td>1</td>\n",
       "      <td>Albert Park Grand Prix Circuit</td>\n",
       "      <td>Lewis Hamilton</td>\n",
       "      <td>Mercedes</td>\n",
       "      <td>58</td>\n",
       "      <td>2</td>\n",
       "      <td>1</td>\n",
       "      <td>21.821</td>\n",
       "      <td>Australian Grand Prix</td>\n",
       "      <td>...</td>\n",
       "      <td>0.017241</td>\n",
       "      <td>44.73482</td>\n",
       "      <td>0.043478</td>\n",
       "      <td>6.754254</td>\n",
       "      <td>HAM</td>\n",
       "      <td>1.0</td>\n",
       "      <td>ULTRASOFT</td>\n",
       "      <td>17.0</td>\n",
       "      <td>19.0</td>\n",
       "      <td>21.821</td>\n",
       "    </tr>\n",
       "    <tr>\n",
       "      <th>3</th>\n",
       "      <td>2018</td>\n",
       "      <td>1</td>\n",
       "      <td>Albert Park Grand Prix Circuit</td>\n",
       "      <td>Lewis Hamilton</td>\n",
       "      <td>Mercedes</td>\n",
       "      <td>58</td>\n",
       "      <td>2</td>\n",
       "      <td>1</td>\n",
       "      <td>21.821</td>\n",
       "      <td>Australian Grand Prix</td>\n",
       "      <td>...</td>\n",
       "      <td>0.017241</td>\n",
       "      <td>44.73482</td>\n",
       "      <td>0.043478</td>\n",
       "      <td>6.754254</td>\n",
       "      <td>HAM</td>\n",
       "      <td>2.0</td>\n",
       "      <td>SOFT</td>\n",
       "      <td>39.0</td>\n",
       "      <td>NaN</td>\n",
       "      <td>Final Stint</td>\n",
       "    </tr>\n",
       "    <tr>\n",
       "      <th>4</th>\n",
       "      <td>2018</td>\n",
       "      <td>1</td>\n",
       "      <td>Albert Park Grand Prix Circuit</td>\n",
       "      <td>Kimi RÃƒÂ¤ikkÃƒÂ¶nen</td>\n",
       "      <td>Ferrari</td>\n",
       "      <td>58</td>\n",
       "      <td>3</td>\n",
       "      <td>1</td>\n",
       "      <td>21.421</td>\n",
       "      <td>Australian Grand Prix</td>\n",
       "      <td>...</td>\n",
       "      <td>0.017241</td>\n",
       "      <td>45.13482</td>\n",
       "      <td>0.086957</td>\n",
       "      <td>6.818562</td>\n",
       "      <td>RAI</td>\n",
       "      <td>1.0</td>\n",
       "      <td>ULTRASOFT</td>\n",
       "      <td>17.0</td>\n",
       "      <td>18.0</td>\n",
       "      <td>21.421</td>\n",
       "    </tr>\n",
       "    <tr>\n",
       "      <th>5</th>\n",
       "      <td>2018</td>\n",
       "      <td>1</td>\n",
       "      <td>Albert Park Grand Prix Circuit</td>\n",
       "      <td>Kimi RÃƒÂ¤ikkÃƒÂ¶nen</td>\n",
       "      <td>Ferrari</td>\n",
       "      <td>58</td>\n",
       "      <td>3</td>\n",
       "      <td>1</td>\n",
       "      <td>21.421</td>\n",
       "      <td>Australian Grand Prix</td>\n",
       "      <td>...</td>\n",
       "      <td>0.017241</td>\n",
       "      <td>45.13482</td>\n",
       "      <td>0.086957</td>\n",
       "      <td>6.818562</td>\n",
       "      <td>RAI</td>\n",
       "      <td>2.0</td>\n",
       "      <td>SOFT</td>\n",
       "      <td>40.0</td>\n",
       "      <td>NaN</td>\n",
       "      <td>Final Stint</td>\n",
       "    </tr>\n",
       "    <tr>\n",
       "      <th>6</th>\n",
       "      <td>2018</td>\n",
       "      <td>1</td>\n",
       "      <td>Albert Park Grand Prix Circuit</td>\n",
       "      <td>Daniel Ricciardo</td>\n",
       "      <td>Red Bull</td>\n",
       "      <td>58</td>\n",
       "      <td>4</td>\n",
       "      <td>1</td>\n",
       "      <td>21.440</td>\n",
       "      <td>Australian Grand Prix</td>\n",
       "      <td>...</td>\n",
       "      <td>0.017241</td>\n",
       "      <td>45.11582</td>\n",
       "      <td>0.130435</td>\n",
       "      <td>6.820062</td>\n",
       "      <td>RIC</td>\n",
       "      <td>1.0</td>\n",
       "      <td>SUPERSOFT</td>\n",
       "      <td>25.0</td>\n",
       "      <td>26.0</td>\n",
       "      <td>21.44</td>\n",
       "    </tr>\n",
       "    <tr>\n",
       "      <th>7</th>\n",
       "      <td>2018</td>\n",
       "      <td>1</td>\n",
       "      <td>Albert Park Grand Prix Circuit</td>\n",
       "      <td>Daniel Ricciardo</td>\n",
       "      <td>Red Bull</td>\n",
       "      <td>58</td>\n",
       "      <td>4</td>\n",
       "      <td>1</td>\n",
       "      <td>21.440</td>\n",
       "      <td>Australian Grand Prix</td>\n",
       "      <td>...</td>\n",
       "      <td>0.017241</td>\n",
       "      <td>45.11582</td>\n",
       "      <td>0.130435</td>\n",
       "      <td>6.820062</td>\n",
       "      <td>RIC</td>\n",
       "      <td>2.0</td>\n",
       "      <td>SOFT</td>\n",
       "      <td>32.0</td>\n",
       "      <td>NaN</td>\n",
       "      <td>Final Stint</td>\n",
       "    </tr>\n",
       "    <tr>\n",
       "      <th>8</th>\n",
       "      <td>2018</td>\n",
       "      <td>1</td>\n",
       "      <td>Albert Park Grand Prix Circuit</td>\n",
       "      <td>Fernando Alonso</td>\n",
       "      <td>McLaren</td>\n",
       "      <td>58</td>\n",
       "      <td>5</td>\n",
       "      <td>1</td>\n",
       "      <td>22.573</td>\n",
       "      <td>Australian Grand Prix</td>\n",
       "      <td>...</td>\n",
       "      <td>0.017241</td>\n",
       "      <td>43.98282</td>\n",
       "      <td>0.173913</td>\n",
       "      <td>6.654571</td>\n",
       "      <td>ALO</td>\n",
       "      <td>1.0</td>\n",
       "      <td>ULTRASOFT</td>\n",
       "      <td>25.0</td>\n",
       "      <td>26.0</td>\n",
       "      <td>22.573</td>\n",
       "    </tr>\n",
       "    <tr>\n",
       "      <th>9</th>\n",
       "      <td>2018</td>\n",
       "      <td>1</td>\n",
       "      <td>Albert Park Grand Prix Circuit</td>\n",
       "      <td>Fernando Alonso</td>\n",
       "      <td>McLaren</td>\n",
       "      <td>58</td>\n",
       "      <td>5</td>\n",
       "      <td>1</td>\n",
       "      <td>22.573</td>\n",
       "      <td>Australian Grand Prix</td>\n",
       "      <td>...</td>\n",
       "      <td>0.017241</td>\n",
       "      <td>43.98282</td>\n",
       "      <td>0.173913</td>\n",
       "      <td>6.654571</td>\n",
       "      <td>ALO</td>\n",
       "      <td>2.0</td>\n",
       "      <td>SOFT</td>\n",
       "      <td>32.0</td>\n",
       "      <td>NaN</td>\n",
       "      <td>Final Stint</td>\n",
       "    </tr>\n",
       "  </tbody>\n",
       "</table>\n",
       "<p>10 rows × 30 columns</p>\n",
       "</div>"
      ],
      "text/plain": [
       "   Season  Round                         Circuit                Driver  \\\n",
       "0    2018      1  Albert Park Grand Prix Circuit      Sebastian Vettel   \n",
       "1    2018      1  Albert Park Grand Prix Circuit      Sebastian Vettel   \n",
       "2    2018      1  Albert Park Grand Prix Circuit        Lewis Hamilton   \n",
       "3    2018      1  Albert Park Grand Prix Circuit        Lewis Hamilton   \n",
       "4    2018      1  Albert Park Grand Prix Circuit  Kimi RÃƒÂ¤ikkÃƒÂ¶nen   \n",
       "5    2018      1  Albert Park Grand Prix Circuit  Kimi RÃƒÂ¤ikkÃƒÂ¶nen   \n",
       "6    2018      1  Albert Park Grand Prix Circuit      Daniel Ricciardo   \n",
       "7    2018      1  Albert Park Grand Prix Circuit      Daniel Ricciardo   \n",
       "8    2018      1  Albert Park Grand Prix Circuit       Fernando Alonso   \n",
       "9    2018      1  Albert Park Grand Prix Circuit       Fernando Alonso   \n",
       "\n",
       "  Constructor  Laps  Position  TotalPitStops  AvgPitStopTime  \\\n",
       "0     Ferrari    58         1              1          21.787   \n",
       "1     Ferrari    58         1              1          21.787   \n",
       "2    Mercedes    58         2              1          21.821   \n",
       "3    Mercedes    58         2              1          21.821   \n",
       "4     Ferrari    58         3              1          21.421   \n",
       "5     Ferrari    58         3              1          21.421   \n",
       "6    Red Bull    58         4              1          21.440   \n",
       "7    Red Bull    58         4              1          21.440   \n",
       "8     McLaren    58         5              1          22.573   \n",
       "9     McLaren    58         5              1          22.573   \n",
       "\n",
       "               Race Name  ... Tire Usage Aggression Fast Lap Attempts  \\\n",
       "0  Australian Grand Prix  ...              0.017241          44.76882   \n",
       "1  Australian Grand Prix  ...              0.017241          44.76882   \n",
       "2  Australian Grand Prix  ...              0.017241          44.73482   \n",
       "3  Australian Grand Prix  ...              0.017241          44.73482   \n",
       "4  Australian Grand Prix  ...              0.017241          45.13482   \n",
       "5  Australian Grand Prix  ...              0.017241          45.13482   \n",
       "6  Australian Grand Prix  ...              0.017241          45.11582   \n",
       "7  Australian Grand Prix  ...              0.017241          45.11582   \n",
       "8  Australian Grand Prix  ...              0.017241          43.98282   \n",
       "9  Australian Grand Prix  ...              0.017241          43.98282   \n",
       "\n",
       "  Position Changes Driver Aggression Score  Abbreviation  Stint  \\\n",
       "0         0.000000                6.755003           VET    1.0   \n",
       "1         0.000000                6.755003           VET    2.0   \n",
       "2         0.043478                6.754254           HAM    1.0   \n",
       "3         0.043478                6.754254           HAM    2.0   \n",
       "4         0.086957                6.818562           RAI    1.0   \n",
       "5         0.086957                6.818562           RAI    2.0   \n",
       "6         0.130435                6.820062           RIC    1.0   \n",
       "7         0.130435                6.820062           RIC    2.0   \n",
       "8         0.173913                6.654571           ALO    1.0   \n",
       "9         0.173913                6.654571           ALO    2.0   \n",
       "\n",
       "   Tire Compound  Stint Length  Pit_Lap     Pit_Time  \n",
       "0      ULTRASOFT          25.0     26.0       21.787  \n",
       "1           SOFT          32.0      NaN  Final Stint  \n",
       "2      ULTRASOFT          17.0     19.0       21.821  \n",
       "3           SOFT          39.0      NaN  Final Stint  \n",
       "4      ULTRASOFT          17.0     18.0       21.421  \n",
       "5           SOFT          40.0      NaN  Final Stint  \n",
       "6      SUPERSOFT          25.0     26.0        21.44  \n",
       "7           SOFT          32.0      NaN  Final Stint  \n",
       "8      ULTRASOFT          25.0     26.0       22.573  \n",
       "9           SOFT          32.0      NaN  Final Stint  \n",
       "\n",
       "[10 rows x 30 columns]"
      ]
     },
     "execution_count": 5,
     "metadata": {},
     "output_type": "execute_result"
    }
   ],
   "source": [
    "df.head(10)"
   ]
  },
  {
   "cell_type": "code",
   "execution_count": 10,
   "metadata": {},
   "outputs": [],
   "source": [
    "pg_user = os.getenv(\"PG_USER\")\n",
    "pg_password = quote_plus(os.getenv(\"PG_PASSWORD\"))  # ← this encodes special chars\n",
    "pg_host = os.getenv(\"PG_HOST\", \"localhost\")\n",
    "pg_port = os.getenv(\"PG_PORT\", \"5432\")\n",
    "pg_db = os.getenv(\"PG_DB1\")\n",
    "csv_db = os.getenv(\"PG_DB2\")\n",
    "db_path = f\"postgresql://{pg_user}:{pg_password}@{pg_host}:{pg_port}/{csv_db}\"\n",
    "engine = create_engine(db_path)\n",
    "# df.to_sql(\"titanic\", engine, index=False)"
   ]
  },
  {
   "cell_type": "code",
   "execution_count": 12,
   "metadata": {},
   "outputs": [
    {
     "data": {
      "text/plain": [
       "374"
      ]
     },
     "execution_count": 12,
     "metadata": {},
     "output_type": "execute_result"
    }
   ],
   "source": [
    "df.to_sql(\"f1\", engine, index=False)"
   ]
  },
  {
   "cell_type": "code",
   "execution_count": 11,
   "metadata": {},
   "outputs": [],
   "source": [
    "db = SQLDatabase(engine)"
   ]
  },
  {
   "cell_type": "code",
   "execution_count": 11,
   "metadata": {},
   "outputs": [
    {
     "name": "stdout",
     "output_type": "stream",
     "text": [
      "postgresql\n",
      "['cancer', 'diabetes', 'f1']\n"
     ]
    }
   ],
   "source": [
    "print(db.dialect)\n",
    "print(db.get_usable_table_names())"
   ]
  },
  {
   "cell_type": "code",
   "execution_count": 12,
   "metadata": {},
   "outputs": [
    {
     "name": "stdout",
     "output_type": "stream",
     "text": [
      "[('Season',), ('Round',), ('Humidity_%',), ('Wind_Speed_KMH',), ('Lap Time Variation',), ('Total Pit Stops',), ('Tire Usage Aggression',), ('Fast Lap Attempts',), ('Position Changes',), ('Driver Aggression Score',), ('Stint',), ('Stint Length',), ('Pit_Lap',), ('Laps',), ('Position',), ('TotalPitStops',), ('AvgPitStopTime',), ('Air_Temp_C',), ('Track_Temp_C',), ('Circuit',), ('Driver',), ('Constructor',), ('Country',), ('Tire Compound',), ('Abbreviation',), ('Pit_Time',), ('Race Name',), ('Date',), ('Time_of_race',), ('Location',)]\n"
     ]
    }
   ],
   "source": [
    "column_names = db.run(\"SELECT column_name FROM information_schema.columns WHERE table_name = 'f1'\")\n",
    "print(column_names)"
   ]
  },
  {
   "cell_type": "code",
   "execution_count": 21,
   "metadata": {},
   "outputs": [],
   "source": [
    "correct_query = \"\"\"\n",
    "SELECT DISTINCT(\"Driver\") \n",
    "FROM f1 \n",
    "WHERE \"Position\" = 1  -- Changed \"POSITION\" to \"Position\"\n",
    "\"\"\""
   ]
  },
  {
   "cell_type": "code",
   "execution_count": 22,
   "metadata": {},
   "outputs": [
    {
     "data": {
      "text/plain": [
       "\"[('Kimi RÃƒÂ¤ikkÃƒÂ¶nen',), ('Oscar Piastri',), ('Valtteri Bottas',), ('Lando Norris',), ('Max Verstappen',), ('Daniel Ricciardo',), ('Pierre Gasly',), ('Esteban Ocon',), ('Lewis Hamilton',), ('Charles Leclerc',), ('Sebastian Vettel',), ('George Russell',), ('Sergio PÃƒÂ©rez',), ('Carlos Sainz',)]\""
      ]
     },
     "execution_count": 22,
     "metadata": {},
     "output_type": "execute_result"
    }
   ],
   "source": [
    "db.run(correct_query)"
   ]
  },
  {
   "cell_type": "code",
   "execution_count": 2,
   "metadata": {},
   "outputs": [
    {
     "name": "stdout",
     "output_type": "stream",
     "text": [
      "Environment variables are loaded: True\n"
     ]
    }
   ],
   "source": [
    "import os\n",
    "from dotenv import load_dotenv\n",
    "import warnings\n",
    "warnings.filterwarnings(\"ignore\")\n",
    "print(\"Environment variables are loaded:\", load_dotenv())"
   ]
  },
  {
   "cell_type": "code",
   "execution_count": 7,
   "metadata": {},
   "outputs": [
    {
     "name": "stdout",
     "output_type": "stream",
     "text": [
      "Hello! How can I assist you today?\n"
     ]
    }
   ],
   "source": [
    "# Initialize the LLM - specify your preferred model\n",
    "llm = ChatOpenAI(\n",
    "    model=\"gpt-3.5-turbo\",  # or \"gpt-4\", \"gpt-4-turbo\", etc.\n",
    "    temperature=0.0\n",
    ")\n",
    "\n",
    "# Create messages (LangChain message format)\n",
    "messages = [\n",
    "    SystemMessage(content=\"You are a helpful assistant\"),\n",
    "    HumanMessage(content=\"hello\")\n",
    "]\n",
    "\n",
    "# Get response\n",
    "response = llm.invoke(messages)\n",
    "print(response.content)"
   ]
  },
  {
   "cell_type": "code",
   "execution_count": 12,
   "metadata": {},
   "outputs": [],
   "source": [
    "from langchain_community.agent_toolkits import create_sql_agent\n",
    "agent_executor = create_sql_agent(llm, db=db, agent_type=\"openai-tools\", verbose=True)"
   ]
  },
  {
   "cell_type": "code",
   "execution_count": 13,
   "metadata": {},
   "outputs": [
    {
     "name": "stdout",
     "output_type": "stream",
     "text": [
      "\n",
      "\n",
      "\u001b[1m> Entering new SQL Agent Executor chain...\u001b[0m\n",
      "\u001b[32;1m\u001b[1;3m\n",
      "Invoking: `sql_db_list_tables` with `{}`\n",
      "\n",
      "\n",
      "\u001b[0m\u001b[38;5;200m\u001b[1;3mcancer, diabetes, f1\u001b[0m\u001b[32;1m\u001b[1;3m\n",
      "Invoking: `sql_db_schema` with `{'table_names': 'f1'}`\n",
      "\n",
      "\n",
      "\u001b[0m\u001b[33;1m\u001b[1;3m\n",
      "CREATE TABLE f1 (\n",
      "\t\"Season\" BIGINT, \n",
      "\t\"Round\" BIGINT, \n",
      "\t\"Circuit\" TEXT, \n",
      "\t\"Driver\" TEXT, \n",
      "\t\"Constructor\" TEXT, \n",
      "\t\"Laps\" BIGINT, \n",
      "\t\"Position\" BIGINT, \n",
      "\t\"TotalPitStops\" BIGINT, \n",
      "\t\"AvgPitStopTime\" DOUBLE PRECISION, \n",
      "\t\"Race Name\" TEXT, \n",
      "\t\"Date\" TEXT, \n",
      "\t\"Time_of_race\" TEXT, \n",
      "\t\"Location\" TEXT, \n",
      "\t\"Country\" TEXT, \n",
      "\t\"Air_Temp_C\" DOUBLE PRECISION, \n",
      "\t\"Track_Temp_C\" DOUBLE PRECISION, \n",
      "\t\"Humidity_%%\" DOUBLE PRECISION, \n",
      "\t\"Wind_Speed_KMH\" DOUBLE PRECISION, \n",
      "\t\"Lap Time Variation\" DOUBLE PRECISION, \n",
      "\t\"Total Pit Stops\" DOUBLE PRECISION, \n",
      "\t\"Tire Usage Aggression\" DOUBLE PRECISION, \n",
      "\t\"Fast Lap Attempts\" DOUBLE PRECISION, \n",
      "\t\"Position Changes\" DOUBLE PRECISION, \n",
      "\t\"Driver Aggression Score\" DOUBLE PRECISION, \n",
      "\t\"Abbreviation\" TEXT, \n",
      "\t\"Stint\" DOUBLE PRECISION, \n",
      "\t\"Tire Compound\" TEXT, \n",
      "\t\"Stint Length\" DOUBLE PRECISION, \n",
      "\t\"Pit_Lap\" DOUBLE PRECISION, \n",
      "\t\"Pit_Time\" TEXT\n",
      ")\n",
      "\n",
      "/*\n",
      "3 rows from f1 table:\n",
      "Season\tRound\tCircuit\tDriver\tConstructor\tLaps\tPosition\tTotalPitStops\tAvgPitStopTime\tRace Name\tDate\tTime_of_race\tLocation\tCountry\tAir_Temp_C\tTrack_Temp_C\tHumidity_%\tWind_Speed_KMH\tLap Time Variation\tTotal Pit Stops\tTire Usage Aggression\tFast Lap Attempts\tPosition Changes\tDriver Aggression Score\tAbbreviation\tStint\tTire Compound\tStint Length\tPit_Lap\tPit_Time\n",
      "2018\t1\tAlbert Park Grand Prix Circuit\tSebastian Vettel\tFerrari\t58\t1\t1\t21.787\tAustralian Grand Prix\t25-03-2018\t05:10:00Z\tMelbourne\tAustralia\t15.78333333333333\t22.28333333333333\t57.0\t23.8\t0.00172349\t0.1428571428571428\t0.017241379\t44.76881994581159\t0.0\t6.755002600299171\tVET\t1.0\tULTRASOFT\t25.0\t26.0\t21.787\n",
      "2018\t1\tAlbert Park Grand Prix Circuit\tSebastian Vettel\tFerrari\t58\t1\t1\t21.787\tAustralian Grand Prix\t25-03-2018\t05:10:00Z\tMelbourne\tAustralia\t15.78333333333333\t22.28333333333333\t57.0\t23.8\t0.00172349\t0.1428571428571428\t0.017241379\t44.76881994581159\t0.0\t6.755002600299171\tVET\t2.0\tSOFT\t32.0\tNone\tFinal Stint\n",
      "2018\t1\tAlbert Park Grand Prix Circuit\tLewis Hamilton\tMercedes\t58\t2\t1\t21.821\tAustralian Grand Prix\t25-03-2018\t05:10:00Z\tMelbourne\tAustralia\t15.78333333333333\t22.28333333333333\t57.0\t23.8\t0.001734677\t0.1428571428571428\t0.017241379\t44.73481995\t0.043478261\t6.754253782551255\tHAM\t1.0\tULTRASOFT\t17.0\t19.0\t21.821\n",
      "*/\u001b[0m\u001b[32;1m\u001b[1;3m\n",
      "Invoking: `sql_db_query` with `{'query': 'SELECT Driver, COUNT(*) AS Top_Three_Finishes FROM f1 WHERE Position <= 3 GROUP BY Driver ORDER BY Top_Three_Finishes DESC LIMIT 10'}`\n",
      "\n",
      "\n",
      "\u001b[0m\u001b[36;1m\u001b[1;3mError: (psycopg2.errors.UndefinedColumn) column \"driver\" does not exist\n",
      "LINE 1: SELECT Driver, COUNT(*) AS Top_Three_Finishes FROM f1 WHERE ...\n",
      "               ^\n",
      "HINT:  Perhaps you meant to reference the column \"f1.Driver\".\n",
      "\n",
      "[SQL: SELECT Driver, COUNT(*) AS Top_Three_Finishes FROM f1 WHERE Position <= 3 GROUP BY Driver ORDER BY Top_Three_Finishes DESC LIMIT 10]\n",
      "(Background on this error at: https://sqlalche.me/e/20/f405)\u001b[0m\u001b[32;1m\u001b[1;3m\n",
      "Invoking: `sql_db_query` with `{'query': 'SELECT \"Driver\", COUNT(*) AS Top_Three_Finishes FROM f1 WHERE \"Position\" <= 3 GROUP BY \"Driver\" ORDER BY Top_Three_Finishes DESC LIMIT 10'}`\n",
      "\n",
      "\n",
      "\u001b[0m\u001b[36;1m\u001b[1;3m[('Max Verstappen', 266), ('Lewis Hamilton', 214), ('Valtteri Bottas', 115), ('Charles Leclerc', 111), ('Sergio PÃƒÂ©rez', 87), ('Carlos Sainz', 67), ('Lando Norris', 64), ('Sebastian Vettel', 56), ('George Russell', 40), ('Oscar Piastri', 29)]\u001b[0m\u001b[32;1m\u001b[1;3mThe drivers who finished in the top three positions most of the times are:\n",
      "\n",
      "1. Max Verstappen - 266 times\n",
      "2. Lewis Hamilton - 214 times\n",
      "3. Valtteri Bottas - 115 times\u001b[0m\n",
      "\n",
      "\u001b[1m> Finished chain.\u001b[0m\n"
     ]
    },
    {
     "data": {
      "text/plain": [
       "{'input': 'Tell me who finished in the top three positions most of the times',\n",
       " 'output': 'The drivers who finished in the top three positions most of the times are:\\n\\n1. Max Verstappen - 266 times\\n2. Lewis Hamilton - 214 times\\n3. Valtteri Bottas - 115 times'}"
      ]
     },
     "execution_count": 13,
     "metadata": {},
     "output_type": "execute_result"
    }
   ],
   "source": [
    "agent_executor.invoke({\"input\": \"Tell me who finished in the top three positions most of the times\"})"
   ]
  },
  {
   "cell_type": "code",
   "execution_count": null,
   "metadata": {},
   "outputs": [],
   "source": []
  }
 ],
 "metadata": {
  "kernelspec": {
   "display_name": ".venv",
   "language": "python",
   "name": "python3"
  },
  "language_info": {
   "codemirror_mode": {
    "name": "ipython",
    "version": 3
   },
   "file_extension": ".py",
   "mimetype": "text/x-python",
   "name": "python",
   "nbconvert_exporter": "python",
   "pygments_lexer": "ipython3",
   "version": "3.12.7"
  }
 },
 "nbformat": 4,
 "nbformat_minor": 2
}
