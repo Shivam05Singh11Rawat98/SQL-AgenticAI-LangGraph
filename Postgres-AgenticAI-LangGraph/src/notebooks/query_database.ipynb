{
 "cells": [
  {
   "cell_type": "code",
   "execution_count": 9,
   "metadata": {},
   "outputs": [],
   "source": [
    "from langchain_community.utilities import SQLDatabase\n",
    "from pyprojroot import here\n",
    "import warnings\n",
    "import os\n",
    "from dotenv import load_dotenv\n",
    "from urllib.parse import quote_plus"
   ]
  },
  {
   "cell_type": "code",
   "execution_count": 10,
   "metadata": {},
   "outputs": [
    {
     "data": {
      "text/plain": [
       "True"
      ]
     },
     "execution_count": 10,
     "metadata": {},
     "output_type": "execute_result"
    }
   ],
   "source": [
    "# Load environment variables\n",
    "load_dotenv()\n"
   ]
  },
  {
   "cell_type": "code",
   "execution_count": 11,
   "metadata": {},
   "outputs": [],
   "source": [
    "# PostgreSQL connection parameters\n",
    "db_params = {\n",
    "    \"host\": os.getenv(\"PG_HOST\", \"localhost\"),\n",
    "    \"port\": os.getenv(\"PG_PORT\", \"5432\"),\n",
    "    \"database\": \"chinook\",\n",
    "    \"user\": os.getenv(\"PG_USER\", \"postgres\"),\n",
    "    \"password\": os.getenv(\"PG_PASSWORD\", \"\"),\n",
    "}"
   ]
  },
  {
   "cell_type": "code",
   "execution_count": 12,
   "metadata": {},
   "outputs": [],
   "source": [
    "encoded_password = quote_plus(db_params[\"password\"])"
   ]
  },
  {
   "cell_type": "code",
   "execution_count": 13,
   "metadata": {},
   "outputs": [],
   "source": [
    "postgres_uri = (\n",
    "    f\"postgresql+psycopg2://\"\n",
    "    f\"{db_params['user']}:{encoded_password}@\"\n",
    "    f\"{db_params['host']}:{db_params['port']}/\"\n",
    "    f\"{db_params['database']}\"\n",
    ")"
   ]
  },
  {
   "cell_type": "code",
   "execution_count": 15,
   "metadata": {},
   "outputs": [
    {
     "name": "stdout",
     "output_type": "stream",
     "text": [
      "postgresql\n",
      "['album', 'artist', 'customer', 'employee', 'genre', 'invoice', 'invoice_line', 'media_type', 'playlist', 'playlist_track', 'track']\n"
     ]
    }
   ],
   "source": [
    "# Connect to PostgreSQL database\n",
    "db = SQLDatabase.from_uri(postgres_uri)\n",
    "\n",
    "# Test the connection\n",
    "print(db.dialect)\n",
    "print(db.get_usable_table_names())"
   ]
  },
  {
   "cell_type": "code",
   "execution_count": 37,
   "metadata": {},
   "outputs": [
    {
     "name": "stdout",
     "output_type": "stream",
     "text": [
      "postgresql\n",
      "['album', 'artist', 'customer', 'employee', 'genre', 'invoice', 'invoice_line', 'media_type', 'playlist', 'playlist_track', 'track']\n"
     ]
    },
    {
     "data": {
      "text/plain": [
       "\"[(1, 'AC/DC'), (2, 'Accept'), (3, 'Aerosmith'), (4, 'Alanis Morissette'), (5, 'Alice In Chains'), (6, 'Antônio Carlos Jobim'), (7, 'Apocalyptica'), (8, 'Audioslave'), (9, 'BackBeat'), (10, 'Billy Cobham')]\""
      ]
     },
     "execution_count": 37,
     "metadata": {},
     "output_type": "execute_result"
    }
   ],
   "source": [
    "# validate the connection to the vectordb\n",
    "print(db.dialect)\n",
    "print(db.get_usable_table_names())\n",
    "db.run(\"SELECT * FROM Artist LIMIT 10;\")"
   ]
  },
  {
   "cell_type": "code",
   "execution_count": 41,
   "metadata": {},
   "outputs": [
    {
     "name": "stdout",
     "output_type": "stream",
     "text": [
      "Hello! How can I assist you today?\n"
     ]
    }
   ],
   "source": [
    "from langchain_openai import ChatOpenAI\n",
    "from langchain_core.messages import HumanMessage, SystemMessage\n",
    "import os\n",
    "\n",
    "# Set your OpenAI API key (from https://platform.openai.com/api-keys)\n",
    "os.environ[\"OPENAI_API_KEY\"] = os.getenv(\"OPENAI_API_KEY\")\n",
    "\n",
    "# Initialize the LLM - specify your preferred model\n",
    "llm = ChatOpenAI(\n",
    "    model=\"gpt-3.5-turbo\",  # or \"gpt-4\", \"gpt-4-turbo\", etc.\n",
    "    temperature=0.0\n",
    ")\n",
    "\n",
    "# Create messages (LangChain message format)\n",
    "messages = [\n",
    "    SystemMessage(content=\"You are a helpful assistant\"),\n",
    "    HumanMessage(content=\"hello\")\n",
    "]\n",
    "\n",
    "# Get response\n",
    "response = llm.invoke(messages)\n",
    "print(response.content)"
   ]
  },
  {
   "cell_type": "code",
   "execution_count": 42,
   "metadata": {},
   "outputs": [
    {
     "name": "stdout",
     "output_type": "stream",
     "text": [
      "Hello! How can I assist you today?\n"
     ]
    }
   ],
   "source": [
    "from langchain_openai import ChatOpenAI\n",
    "from langchain_core.prompts import ChatPromptTemplate\n",
    "from langchain_core.output_parsers import StrOutputParser\n",
    "import os\n",
    "\n",
    "# Define the prompt template\n",
    "prompt = ChatPromptTemplate.from_messages([\n",
    "    (\"system\", \"You are a helpful assistant\"),\n",
    "    (\"user\", \"{input}\")\n",
    "])\n",
    "\n",
    "# Create the chain\n",
    "llm = ChatOpenAI(model=\"gpt-3.5-turbo\", temperature=0.0)\n",
    "chain = prompt | llm | StrOutputParser()\n",
    "\n",
    "# Invoke the chain\n",
    "response = chain.invoke({\"input\": \"hello\"})\n",
    "print(response)"
   ]
  },
  {
   "cell_type": "code",
   "execution_count": 43,
   "metadata": {},
   "outputs": [
    {
     "name": "stdout",
     "output_type": "stream",
     "text": [
      "SELECT COUNT(employee_id) AS total_employees\n",
      "FROM employee;\n"
     ]
    }
   ],
   "source": [
    "from langchain.chains import create_sql_query_chain\n",
    "\n",
    "chain = create_sql_query_chain(llm, db)\n",
    "response = chain.invoke({\"question\": \"How many employees are there\"})\n",
    "print(response)"
   ]
  },
  {
   "cell_type": "code",
   "execution_count": 44,
   "metadata": {},
   "outputs": [
    {
     "data": {
      "text/plain": [
       "'[(8,)]'"
      ]
     },
     "execution_count": 44,
     "metadata": {},
     "output_type": "execute_result"
    }
   ],
   "source": [
    "db.run(response.replace(\"SQLQuery:\", \"\").strip())"
   ]
  },
  {
   "cell_type": "code",
   "execution_count": 45,
   "metadata": {},
   "outputs": [
    {
     "name": "stdout",
     "output_type": "stream",
     "text": [
      "You are a PostgreSQL expert. Given an input question, first create a syntactically correct PostgreSQL query to run, then look at the results of the query and return the answer to the input question.\n",
      "Unless the user specifies in the question a specific number of examples to obtain, query for at most 5 results using the LIMIT clause as per PostgreSQL. You can order the results to return the most informative data in the database.\n",
      "Never query for all columns from a table. You must query only the columns that are needed to answer the question. Wrap each column name in double quotes (\") to denote them as delimited identifiers.\n",
      "Pay attention to use only the column names you can see in the tables below. Be careful to not query for columns that do not exist. Also, pay attention to which column is in which table.\n",
      "Pay attention to use CURRENT_DATE function to get the current date, if the question involves \"today\".\n",
      "\n",
      "Use the following format:\n",
      "\n",
      "Question: Question here\n",
      "SQLQuery: SQL Query to run\n",
      "SQLResult: Result of the SQLQuery\n",
      "Answer: Final answer here\n",
      "\n",
      "Only use the following tables:\n",
      "\u001b[33;1m\u001b[1;3m{table_info}\u001b[0m\n",
      "\n",
      "Question: \u001b[33;1m\u001b[1;3m{input}\u001b[0m\n"
     ]
    }
   ],
   "source": [
    "chain.get_prompts()[0].pretty_print()"
   ]
  },
  {
   "cell_type": "code",
   "execution_count": 46,
   "metadata": {},
   "outputs": [
    {
     "data": {
      "text/plain": [
       "'[(8,)]'"
      ]
     },
     "execution_count": 46,
     "metadata": {},
     "output_type": "execute_result"
    }
   ],
   "source": [
    "from langchain_community.tools.sql_database.tool import QuerySQLDataBaseTool\n",
    "\n",
    "write_query = create_sql_query_chain(llm, db)\n",
    "execute_query = QuerySQLDataBaseTool(db=db)\n",
    "\n",
    "chain = write_query | execute_query\n",
    "\n",
    "chain.invoke({\"question\": \"How many employees are there\"})"
   ]
  },
  {
   "cell_type": "code",
   "execution_count": 47,
   "metadata": {},
   "outputs": [
    {
     "data": {
      "text/plain": [
       "'The customers from the United States spent the most with a total sales amount of $523.06.'"
      ]
     },
     "execution_count": 47,
     "metadata": {},
     "output_type": "execute_result"
    }
   ],
   "source": [
    "from operator import itemgetter\n",
    "from langchain_core.output_parsers import StrOutputParser\n",
    "from langchain_core.prompts import PromptTemplate\n",
    "from langchain_core.runnables import RunnablePassthrough\n",
    "\n",
    "answer_prompt = PromptTemplate.from_template(\n",
    "    \"\"\"Given the following user question, corresponding SQL query, and SQL result, answer the user question. The response should be user friendly.\n",
    "Question: {question}\n",
    "SQL Query: {query}\n",
    "SQL Result: {result}\n",
    "Answer: \"\"\"\n",
    ")\n",
    "\n",
    "answer = answer_prompt | llm | StrOutputParser()\n",
    "chain = (\n",
    "    RunnablePassthrough.assign(query=write_query).assign(\n",
    "        result=itemgetter(\"query\") | execute_query\n",
    "    )\n",
    "    | answer\n",
    ")\n",
    "\n",
    "chain.invoke({\"question\": \"List the total sales per country. Which country's customers spent the most?\"})"
   ]
  },
  {
   "cell_type": "code",
   "execution_count": 48,
   "metadata": {},
   "outputs": [],
   "source": [
    "from langchain_community.agent_toolkits import create_sql_agent\n",
    "\n",
    "agent_executor = create_sql_agent(llm, db=db, agent_type=\"openai-tools\", verbose=True)"
   ]
  },
  {
   "cell_type": "code",
   "execution_count": 49,
   "metadata": {},
   "outputs": [
    {
     "name": "stdout",
     "output_type": "stream",
     "text": [
      "\n",
      "\n",
      "\u001b[1m> Entering new SQL Agent Executor chain...\u001b[0m\n",
      "\u001b[32;1m\u001b[1;3m\n",
      "Invoking: `sql_db_list_tables` with `{}`\n",
      "\n",
      "\n",
      "\u001b[0m\u001b[38;5;200m\u001b[1;3malbum, artist, customer, employee, genre, invoice, invoice_line, media_type, playlist, playlist_track, track\u001b[0m\u001b[32;1m\u001b[1;3m\n",
      "Invoking: `sql_db_schema` with `{'table_names': 'customer, invoice, invoice_line'}`\n",
      "\n",
      "\n",
      "\u001b[0m\u001b[33;1m\u001b[1;3m\n",
      "CREATE TABLE customer (\n",
      "\tcustomer_id INTEGER NOT NULL, \n",
      "\tfirst_name VARCHAR(40) NOT NULL, \n",
      "\tlast_name VARCHAR(20) NOT NULL, \n",
      "\tcompany VARCHAR(80), \n",
      "\taddress VARCHAR(70), \n",
      "\tcity VARCHAR(40), \n",
      "\tstate VARCHAR(40), \n",
      "\tcountry VARCHAR(40), \n",
      "\tpostal_code VARCHAR(10), \n",
      "\tphone VARCHAR(24), \n",
      "\tfax VARCHAR(24), \n",
      "\temail VARCHAR(60) NOT NULL, \n",
      "\tsupport_rep_id INTEGER, \n",
      "\tCONSTRAINT customer_pkey PRIMARY KEY (customer_id), \n",
      "\tCONSTRAINT customer_support_rep_id_fkey FOREIGN KEY(support_rep_id) REFERENCES employee (employee_id)\n",
      ")\n",
      "\n",
      "/*\n",
      "3 rows from customer table:\n",
      "customer_id\tfirst_name\tlast_name\tcompany\taddress\tcity\tstate\tcountry\tpostal_code\tphone\tfax\temail\tsupport_rep_id\n",
      "1\tLuís\tGonçalves\tEmbraer - Empresa Brasileira de Aeronáutica S.A.\tAv. Brigadeiro Faria Lima, 2170\tSão José dos Campos\tSP\tBrazil\t12227-000\t+55 (12) 3923-5555\t+55 (12) 3923-5566\tluisg@embraer.com.br\t3\n",
      "2\tLeonie\tKöhler\tNone\tTheodor-Heuss-Straße 34\tStuttgart\tNone\tGermany\t70174\t+49 0711 2842222\tNone\tleonekohler@surfeu.de\t5\n",
      "3\tFrançois\tTremblay\tNone\t1498 rue Bélanger\tMontréal\tQC\tCanada\tH2G 1A7\t+1 (514) 721-4711\tNone\tftremblay@gmail.com\t3\n",
      "*/\n",
      "\n",
      "\n",
      "CREATE TABLE invoice (\n",
      "\tinvoice_id INTEGER NOT NULL, \n",
      "\tcustomer_id INTEGER NOT NULL, \n",
      "\tinvoice_date TIMESTAMP WITHOUT TIME ZONE NOT NULL, \n",
      "\tbilling_address VARCHAR(70), \n",
      "\tbilling_city VARCHAR(40), \n",
      "\tbilling_state VARCHAR(40), \n",
      "\tbilling_country VARCHAR(40), \n",
      "\tbilling_postal_code VARCHAR(10), \n",
      "\ttotal NUMERIC(10, 2) NOT NULL, \n",
      "\tCONSTRAINT invoice_pkey PRIMARY KEY (invoice_id), \n",
      "\tCONSTRAINT invoice_customer_id_fkey FOREIGN KEY(customer_id) REFERENCES customer (customer_id)\n",
      ")\n",
      "\n",
      "/*\n",
      "3 rows from invoice table:\n",
      "invoice_id\tcustomer_id\tinvoice_date\tbilling_address\tbilling_city\tbilling_state\tbilling_country\tbilling_postal_code\ttotal\n",
      "1\t2\t2021-01-01 00:00:00\tTheodor-Heuss-Straße 34\tStuttgart\tNone\tGermany\t70174\t1.98\n",
      "2\t4\t2021-01-02 00:00:00\tUllevålsveien 14\tOslo\tNone\tNorway\t0171\t3.96\n",
      "3\t8\t2021-01-03 00:00:00\tGrétrystraat 63\tBrussels\tNone\tBelgium\t1000\t5.94\n",
      "*/\n",
      "\n",
      "\n",
      "CREATE TABLE invoice_line (\n",
      "\tinvoice_line_id INTEGER NOT NULL, \n",
      "\tinvoice_id INTEGER NOT NULL, \n",
      "\ttrack_id INTEGER NOT NULL, \n",
      "\tunit_price NUMERIC(10, 2) NOT NULL, \n",
      "\tquantity INTEGER NOT NULL, \n",
      "\tCONSTRAINT invoice_line_pkey PRIMARY KEY (invoice_line_id), \n",
      "\tCONSTRAINT invoice_line_invoice_id_fkey FOREIGN KEY(invoice_id) REFERENCES invoice (invoice_id), \n",
      "\tCONSTRAINT invoice_line_track_id_fkey FOREIGN KEY(track_id) REFERENCES track (track_id)\n",
      ")\n",
      "\n",
      "/*\n",
      "3 rows from invoice_line table:\n",
      "invoice_line_id\tinvoice_id\ttrack_id\tunit_price\tquantity\n",
      "1\t1\t2\t0.99\t1\n",
      "2\t1\t4\t0.99\t1\n",
      "3\t2\t6\t0.99\t1\n",
      "*/\u001b[0m\u001b[32;1m\u001b[1;3m\n",
      "Invoking: `sql_db_query` with `{'query': 'SELECT c.country, SUM(i.total) AS total_sales\\nFROM customer c\\nJOIN invoice i ON c.customer_id = i.customer_id\\nGROUP BY c.country\\nORDER BY total_sales DESC'}`\n",
      "\n",
      "\n",
      "\u001b[0m\u001b[36;1m\u001b[1;3m[('USA', Decimal('523.06')), ('Canada', Decimal('303.96')), ('France', Decimal('195.10')), ('Brazil', Decimal('190.10')), ('Germany', Decimal('156.48')), ('United Kingdom', Decimal('112.86')), ('Czech Republic', Decimal('90.24')), ('Portugal', Decimal('77.24')), ('India', Decimal('75.26')), ('Chile', Decimal('46.62')), ('Ireland', Decimal('45.62')), ('Hungary', Decimal('45.62')), ('Austria', Decimal('42.62')), ('Finland', Decimal('41.62')), ('Netherlands', Decimal('40.62')), ('Norway', Decimal('39.62')), ('Sweden', Decimal('38.62')), ('Argentina', Decimal('37.62')), ('Belgium', Decimal('37.62')), ('Poland', Decimal('37.62')), ('Australia', Decimal('37.62')), ('Italy', Decimal('37.62')), ('Denmark', Decimal('37.62')), ('Spain', Decimal('37.62'))]\u001b[0m\u001b[32;1m\u001b[1;3mThe total sales per country are as follows:\n",
      "\n",
      "1. USA: $523.06\n",
      "2. Canada: $303.96\n",
      "3. France: $195.10\n",
      "4. Brazil: $190.10\n",
      "5. Germany: $156.48\n",
      "6. United Kingdom: $112.86\n",
      "7. Czech Republic: $90.24\n",
      "8. Portugal: $77.24\n",
      "9. India: $75.26\n",
      "10. Chile: $46.62\n",
      "\n",
      "The country whose customers spent the most is the USA with a total sales of $523.06.\u001b[0m\n",
      "\n",
      "\u001b[1m> Finished chain.\u001b[0m\n"
     ]
    },
    {
     "data": {
      "text/plain": [
       "{'input': \"List the total sales per country. Which country's customers spent the most?\",\n",
       " 'output': 'The total sales per country are as follows:\\n\\n1. USA: $523.06\\n2. Canada: $303.96\\n3. France: $195.10\\n4. Brazil: $190.10\\n5. Germany: $156.48\\n6. United Kingdom: $112.86\\n7. Czech Republic: $90.24\\n8. Portugal: $77.24\\n9. India: $75.26\\n10. Chile: $46.62\\n\\nThe country whose customers spent the most is the USA with a total sales of $523.06.'}"
      ]
     },
     "execution_count": 49,
     "metadata": {},
     "output_type": "execute_result"
    }
   ],
   "source": [
    "agent_executor.invoke(\n",
    "    {\n",
    "        \"input\": \"List the total sales per country. Which country's customers spent the most?\"\n",
    "    }\n",
    ")"
   ]
  },
  {
   "cell_type": "code",
   "execution_count": 50,
   "metadata": {},
   "outputs": [
    {
     "name": "stdout",
     "output_type": "stream",
     "text": [
      "\n",
      "\n",
      "\u001b[1m> Entering new SQL Agent Executor chain...\u001b[0m\n",
      "\u001b[32;1m\u001b[1;3m\n",
      "Invoking: `sql_db_list_tables` with `{}`\n",
      "\n",
      "\n",
      "\u001b[0m\u001b[38;5;200m\u001b[1;3malbum, artist, customer, employee, genre, invoice, invoice_line, media_type, playlist, playlist_track, track\u001b[0m\u001b[32;1m\u001b[1;3m\n",
      "Invoking: `sql_db_schema` with `{'table_names': 'playlist_track'}`\n",
      "\n",
      "\n",
      "\u001b[0m\u001b[33;1m\u001b[1;3m\n",
      "CREATE TABLE playlist_track (\n",
      "\tplaylist_id INTEGER NOT NULL, \n",
      "\ttrack_id INTEGER NOT NULL, \n",
      "\tCONSTRAINT playlist_track_pkey PRIMARY KEY (playlist_id, track_id), \n",
      "\tCONSTRAINT playlist_track_playlist_id_fkey FOREIGN KEY(playlist_id) REFERENCES playlist (playlist_id), \n",
      "\tCONSTRAINT playlist_track_track_id_fkey FOREIGN KEY(track_id) REFERENCES track (track_id)\n",
      ")\n",
      "\n",
      "/*\n",
      "3 rows from playlist_track table:\n",
      "playlist_id\ttrack_id\n",
      "1\t3402\n",
      "1\t3389\n",
      "1\t3390\n",
      "*/\u001b[0m\u001b[32;1m\u001b[1;3mThe `playlist_track` table has the following columns:\n",
      "- `playlist_id` (INTEGER, NOT NULL)\n",
      "- `track_id` (INTEGER, NOT NULL)\n",
      "\n",
      "It also has the following constraints:\n",
      "- Primary Key: (playlist_id, track_id)\n",
      "- Foreign Key: playlist_id references playlist(playlist_id)\n",
      "- Foreign Key: track_id references track(track_id)\n",
      "\n",
      "Here are 3 sample rows from the `playlist_track` table:\n",
      "1. playlist_id: 1, track_id: 3402\n",
      "2. playlist_id: 1, track_id: 3389\n",
      "3. playlist_id: 1, track_id: 3390\u001b[0m\n",
      "\n",
      "\u001b[1m> Finished chain.\u001b[0m\n"
     ]
    },
    {
     "data": {
      "text/plain": [
       "{'input': 'Describe the playlisttrack table',\n",
       " 'output': 'The `playlist_track` table has the following columns:\\n- `playlist_id` (INTEGER, NOT NULL)\\n- `track_id` (INTEGER, NOT NULL)\\n\\nIt also has the following constraints:\\n- Primary Key: (playlist_id, track_id)\\n- Foreign Key: playlist_id references playlist(playlist_id)\\n- Foreign Key: track_id references track(track_id)\\n\\nHere are 3 sample rows from the `playlist_track` table:\\n1. playlist_id: 1, track_id: 3402\\n2. playlist_id: 1, track_id: 3389\\n3. playlist_id: 1, track_id: 3390'}"
      ]
     },
     "execution_count": 50,
     "metadata": {},
     "output_type": "execute_result"
    }
   ],
   "source": [
    "agent_executor.invoke({\"input\": \"Describe the playlisttrack table\"})"
   ]
  },
  {
   "cell_type": "code",
   "execution_count": null,
   "metadata": {},
   "outputs": [],
   "source": []
  }
 ],
 "metadata": {
  "kernelspec": {
   "display_name": ".venv",
   "language": "python",
   "name": "python3"
  },
  "language_info": {
   "codemirror_mode": {
    "name": "ipython",
    "version": 3
   },
   "file_extension": ".py",
   "mimetype": "text/x-python",
   "name": "python",
   "nbconvert_exporter": "python",
   "pygments_lexer": "ipython3",
   "version": "3.12.7"
  }
 },
 "nbformat": 4,
 "nbformat_minor": 2
}
